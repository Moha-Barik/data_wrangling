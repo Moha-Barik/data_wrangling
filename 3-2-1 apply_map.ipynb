{
 "cells": [
  {
   "cell_type": "code",
   "execution_count": 2,
   "id": "26e26e83-86e3-4aa6-baa9-30d5c7585042",
   "metadata": {},
   "outputs": [
    {
     "name": "stdout",
     "output_type": "stream",
     "text": [
      "(675, 5)\n",
      "Index(['Student number', 'Surname', 'Initials', 'Final mark', 'Class'], dtype='object')\n",
      "Student number      int64\n",
      "Surname            object\n",
      "Initials           object\n",
      "Final mark        float64\n",
      "Class              object\n",
      "dtype: object\n",
      "   Student number    Surname Initials  Final mark Class\n",
      "0        15476227     AFONSO        L       47.72     E\n",
      "1        15311279   ALBERTYN    F J H       57.52     A\n",
      "2        15637913  ALEXANDER        L       90.68     E\n",
      "3        15124150        BAM      A J       56.43     E\n",
      "4        15829626     BARROW      S B       79.64     E\n"
     ]
    }
   ],
   "source": [
    "# import pandas\n",
    "import pandas as pd\n",
    "\n",
    "# read CSV files from the current working directory\n",
    "classlist_a = pd.read_csv(\"classlist_a.csv\")\n",
    "classlist_b = pd.read_csv(\"classlist_b.csv\")\n",
    "classlist_c = pd.read_csv(\"classlist_c.csv\")\n",
    "classlist_d = pd.read_csv(\"classlist_d.csv\")\n",
    "\n",
    "# concat the four class lists\n",
    "classlist = pd.concat([classlist_a, classlist_b, classlist_c, classlist_d])\n",
    "\n",
    "# view the DataFrame\n",
    "print(classlist.shape)\n",
    "print(classlist.columns)\n",
    "print(classlist.dtypes)\n",
    "print(classlist.head())"
   ]
  },
  {
   "cell_type": "code",
   "execution_count": 6,
   "id": "c663ee08-0de2-4d0d-b0b1-5f9c24b19a35",
   "metadata": {},
   "outputs": [
    {
     "data": {
      "text/html": [
       "<div>\n",
       "<style scoped>\n",
       "    .dataframe tbody tr th:only-of-type {\n",
       "        vertical-align: middle;\n",
       "    }\n",
       "\n",
       "    .dataframe tbody tr th {\n",
       "        vertical-align: top;\n",
       "    }\n",
       "\n",
       "    .dataframe thead th {\n",
       "        text-align: right;\n",
       "    }\n",
       "</style>\n",
       "<table border=\"1\" class=\"dataframe\">\n",
       "  <thead>\n",
       "    <tr style=\"text-align: right;\">\n",
       "      <th></th>\n",
       "      <th>Student number</th>\n",
       "      <th>Surname</th>\n",
       "      <th>Initials</th>\n",
       "      <th>Final mark</th>\n",
       "      <th>Class</th>\n",
       "      <th>Class_num</th>\n",
       "    </tr>\n",
       "  </thead>\n",
       "  <tbody>\n",
       "    <tr>\n",
       "      <th>0</th>\n",
       "      <td>15476227</td>\n",
       "      <td>AFONSO</td>\n",
       "      <td>L</td>\n",
       "      <td>47.72</td>\n",
       "      <td>E</td>\n",
       "      <td>1</td>\n",
       "    </tr>\n",
       "    <tr>\n",
       "      <th>1</th>\n",
       "      <td>15311279</td>\n",
       "      <td>ALBERTYN</td>\n",
       "      <td>F J H</td>\n",
       "      <td>57.52</td>\n",
       "      <td>A</td>\n",
       "      <td>0</td>\n",
       "    </tr>\n",
       "    <tr>\n",
       "      <th>2</th>\n",
       "      <td>15637913</td>\n",
       "      <td>ALEXANDER</td>\n",
       "      <td>L</td>\n",
       "      <td>90.68</td>\n",
       "      <td>E</td>\n",
       "      <td>1</td>\n",
       "    </tr>\n",
       "    <tr>\n",
       "      <th>3</th>\n",
       "      <td>15124150</td>\n",
       "      <td>BAM</td>\n",
       "      <td>A J</td>\n",
       "      <td>56.43</td>\n",
       "      <td>E</td>\n",
       "      <td>1</td>\n",
       "    </tr>\n",
       "    <tr>\n",
       "      <th>4</th>\n",
       "      <td>15829626</td>\n",
       "      <td>BARROW</td>\n",
       "      <td>S B</td>\n",
       "      <td>79.64</td>\n",
       "      <td>E</td>\n",
       "      <td>1</td>\n",
       "    </tr>\n",
       "  </tbody>\n",
       "</table>\n",
       "</div>"
      ],
      "text/plain": [
       "   Student number    Surname Initials  Final mark Class  Class_num\n",
       "0        15476227     AFONSO        L       47.72     E          1\n",
       "1        15311279   ALBERTYN    F J H       57.52     A          0\n",
       "2        15637913  ALEXANDER        L       90.68     E          1\n",
       "3        15124150        BAM      A J       56.43     E          1\n",
       "4        15829626     BARROW      S B       79.64     E          1"
      ]
     },
     "execution_count": 6,
     "metadata": {},
     "output_type": "execute_result"
    }
   ],
   "source": [
    "# Class column to be changed from a string to an integer.\n",
    "\n",
    "classlist['Class_num'] = classlist.Class.map({'A':0, 'E':1})\n",
    "classlist.head()\n",
    "\n",
    "# The column Final mark needs to be renamed to Final_mark. \n"
   ]
  },
  {
   "cell_type": "code",
   "execution_count": 7,
   "id": "6339c184-3d35-427b-a0c5-2c6fb92ea001",
   "metadata": {},
   "outputs": [
    {
     "name": "stdout",
     "output_type": "stream",
     "text": [
      "    Class  Class_num\n",
      "0       E          1\n",
      "1       A          0\n",
      "2       E          1\n",
      "3       E          1\n",
      "4       E          1\n",
      "..    ...        ...\n",
      "214     E          1\n",
      "215     E          1\n",
      "216     A          0\n",
      "217     E          1\n",
      "218     E          1\n",
      "\n",
      "[675 rows x 2 columns]\n"
     ]
    }
   ],
   "source": [
    "# compare columns Class and Class_num with loc() function\n",
    "print(classlist.loc[:, ['Class', 'Class_num']])"
   ]
  },
  {
   "cell_type": "code",
   "execution_count": null,
   "id": "0d58ef8f-20e1-4445-94ae-cafbfcc0323c",
   "metadata": {},
   "outputs": [],
   "source": []
  },
  {
   "cell_type": "code",
   "execution_count": null,
   "id": "5b5cc1c7-38d3-480d-87e7-224297bcee3a",
   "metadata": {},
   "outputs": [],
   "source": []
  },
  {
   "cell_type": "code",
   "execution_count": null,
   "id": "48ba005e-66d6-4271-8cb3-1ddf68733991",
   "metadata": {},
   "outputs": [],
   "source": []
  },
  {
   "cell_type": "code",
   "execution_count": null,
   "id": "61151a0a-fec5-48f7-88ce-d399bf02c1a3",
   "metadata": {},
   "outputs": [],
   "source": []
  }
 ],
 "metadata": {
  "kernelspec": {
   "display_name": "Python 3 (ipykernel)",
   "language": "python",
   "name": "python3"
  },
  "language_info": {
   "codemirror_mode": {
    "name": "ipython",
    "version": 3
   },
   "file_extension": ".py",
   "mimetype": "text/x-python",
   "name": "python",
   "nbconvert_exporter": "python",
   "pygments_lexer": "ipython3",
   "version": "3.9.7"
  }
 },
 "nbformat": 4,
 "nbformat_minor": 5
}
